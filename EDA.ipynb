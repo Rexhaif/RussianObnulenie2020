{
 "cells": [
  {
   "cell_type": "code",
   "execution_count": 1,
   "metadata": {},
   "outputs": [
    {
     "name": "stderr",
     "output_type": "stream",
     "text": [
      "/home/rexhaif/Projects/RussianObnulenie2020/.venv/lib/python3.7/site-packages/tqdm/std.py:668: FutureWarning: The Panel class is removed from pandas. Accessing it from the top-level namespace will also be removed in the next version\n",
      "  from pandas import Panel\n"
     ]
    }
   ],
   "source": [
    "import pandas as pd\n",
    "import matplotlib.pylab as plt\n",
    "import numpy as np\n",
    "import seaborn as sns\n",
    "\n",
    "from tqdm.auto import tqdm\n",
    "\n",
    "tqdm.pandas()\n",
    "%matplotlib inline\n",
    "pd.set_option(\"display.max_rows\", 1000)"
   ]
  },
  {
   "cell_type": "code",
   "execution_count": 2,
   "metadata": {},
   "outputs": [],
   "source": [
    "data = pd.read_csv(\"uiks-utf8.csv\")"
   ]
  },
  {
   "cell_type": "code",
   "execution_count": 3,
   "metadata": {},
   "outputs": [
    {
     "data": {
      "text/html": [
       "<div>\n",
       "<style scoped>\n",
       "    .dataframe tbody tr th:only-of-type {\n",
       "        vertical-align: middle;\n",
       "    }\n",
       "\n",
       "    .dataframe tbody tr th {\n",
       "        vertical-align: top;\n",
       "    }\n",
       "\n",
       "    .dataframe thead th {\n",
       "        text-align: right;\n",
       "    }\n",
       "</style>\n",
       "<table border=\"1\" class=\"dataframe\">\n",
       "  <thead>\n",
       "    <tr style=\"text-align: right;\">\n",
       "      <th></th>\n",
       "      <th>region_name</th>\n",
       "      <th>tik_name</th>\n",
       "      <th>uik_name</th>\n",
       "      <th>registered_voters</th>\n",
       "      <th>used_ballots</th>\n",
       "      <th>found_ballots</th>\n",
       "      <th>incorrect_ballots</th>\n",
       "      <th>yes_votes</th>\n",
       "      <th>no_votes</th>\n",
       "      <th>latitude</th>\n",
       "      <th>longitude</th>\n",
       "    </tr>\n",
       "  </thead>\n",
       "  <tbody>\n",
       "    <tr>\n",
       "      <th>0</th>\n",
       "      <td>Республика Адыгея (Адыгея)</td>\n",
       "      <td>1 Адыгейская</td>\n",
       "      <td>УИК №1</td>\n",
       "      <td>2277</td>\n",
       "      <td>1925</td>\n",
       "      <td>1925</td>\n",
       "      <td>0</td>\n",
       "      <td>1749</td>\n",
       "      <td>176</td>\n",
       "      <td>NaN</td>\n",
       "      <td>NaN</td>\n",
       "    </tr>\n",
       "    <tr>\n",
       "      <th>1</th>\n",
       "      <td>Республика Адыгея (Адыгея)</td>\n",
       "      <td>1 Адыгейская</td>\n",
       "      <td>УИК №2</td>\n",
       "      <td>2694</td>\n",
       "      <td>2290</td>\n",
       "      <td>2290</td>\n",
       "      <td>7</td>\n",
       "      <td>2117</td>\n",
       "      <td>166</td>\n",
       "      <td>44.983019</td>\n",
       "      <td>39.103872</td>\n",
       "    </tr>\n",
       "    <tr>\n",
       "      <th>2</th>\n",
       "      <td>Республика Адыгея (Адыгея)</td>\n",
       "      <td>1 Адыгейская</td>\n",
       "      <td>УИК №3</td>\n",
       "      <td>2865</td>\n",
       "      <td>2441</td>\n",
       "      <td>2441</td>\n",
       "      <td>11</td>\n",
       "      <td>2171</td>\n",
       "      <td>259</td>\n",
       "      <td>NaN</td>\n",
       "      <td>NaN</td>\n",
       "    </tr>\n",
       "    <tr>\n",
       "      <th>3</th>\n",
       "      <td>Республика Адыгея (Адыгея)</td>\n",
       "      <td>1 Адыгейская</td>\n",
       "      <td>УИК №4</td>\n",
       "      <td>2054</td>\n",
       "      <td>1669</td>\n",
       "      <td>1669</td>\n",
       "      <td>8</td>\n",
       "      <td>1381</td>\n",
       "      <td>280</td>\n",
       "      <td>44.887695</td>\n",
       "      <td>39.202791</td>\n",
       "    </tr>\n",
       "    <tr>\n",
       "      <th>4</th>\n",
       "      <td>Республика Адыгея (Адыгея)</td>\n",
       "      <td>1 Адыгейская</td>\n",
       "      <td>УИК №5</td>\n",
       "      <td>714</td>\n",
       "      <td>607</td>\n",
       "      <td>607</td>\n",
       "      <td>1</td>\n",
       "      <td>473</td>\n",
       "      <td>133</td>\n",
       "      <td>44.883646</td>\n",
       "      <td>39.183058</td>\n",
       "    </tr>\n",
       "  </tbody>\n",
       "</table>\n",
       "</div>"
      ],
      "text/plain": [
       "                  region_name      tik_name uik_name  registered_voters  \\\n",
       "0  Республика Адыгея (Адыгея)  1 Адыгейская   УИК №1               2277   \n",
       "1  Республика Адыгея (Адыгея)  1 Адыгейская   УИК №2               2694   \n",
       "2  Республика Адыгея (Адыгея)  1 Адыгейская   УИК №3               2865   \n",
       "3  Республика Адыгея (Адыгея)  1 Адыгейская   УИК №4               2054   \n",
       "4  Республика Адыгея (Адыгея)  1 Адыгейская   УИК №5                714   \n",
       "\n",
       "   used_ballots  found_ballots  incorrect_ballots  yes_votes  no_votes  \\\n",
       "0          1925           1925                  0       1749       176   \n",
       "1          2290           2290                  7       2117       166   \n",
       "2          2441           2441                 11       2171       259   \n",
       "3          1669           1669                  8       1381       280   \n",
       "4           607            607                  1        473       133   \n",
       "\n",
       "    latitude  longitude  \n",
       "0        NaN        NaN  \n",
       "1  44.983019  39.103872  \n",
       "2        NaN        NaN  \n",
       "3  44.887695  39.202791  \n",
       "4  44.883646  39.183058  "
      ]
     },
     "execution_count": 3,
     "metadata": {},
     "output_type": "execute_result"
    }
   ],
   "source": [
    "data.head()"
   ]
  },
  {
   "cell_type": "markdown",
   "metadata": {},
   "source": [
    "## Сумма голосов за/против"
   ]
  },
  {
   "cell_type": "code",
   "execution_count": 4,
   "metadata": {},
   "outputs": [
    {
     "name": "stdout",
     "output_type": "stream",
     "text": [
      "57071119 Голосов За\n",
      "15347937 Голосов Против\n"
     ]
    }
   ],
   "source": [
    "print(f\"{data.yes_votes.sum()} Голосов За\")\n",
    "print(f\"{data.no_votes.sum()} Голосов Против\")"
   ]
  },
  {
   "cell_type": "markdown",
   "metadata": {},
   "source": [
    "## Ловушка удобных чисел"
   ]
  },
  {
   "cell_type": "code",
   "execution_count": 15,
   "metadata": {},
   "outputs": [
    {
     "data": {
      "application/vnd.jupyter.widget-view+json": {
       "model_id": "5b88f94c751041aabfd85967aca49c9f",
       "version_major": 2,
       "version_minor": 0
      },
      "text/plain": [
       "HBox(children=(FloatProgress(value=0.0, max=96765.0), HTML(value='')))"
      ]
     },
     "metadata": {},
     "output_type": "display_data"
    },
    {
     "name": "stdout",
     "output_type": "stream",
     "text": [
      "\n"
     ]
    },
    {
     "data": {
      "application/vnd.jupyter.widget-view+json": {
       "model_id": "0e2c8e44bce847078aacd300de4a4f5f",
       "version_major": 2,
       "version_minor": 0
      },
      "text/plain": [
       "HBox(children=(FloatProgress(value=0.0, max=96765.0), HTML(value='')))"
      ]
     },
     "metadata": {},
     "output_type": "display_data"
    },
    {
     "name": "stdout",
     "output_type": "stream",
     "text": [
      "\n"
     ]
    }
   ],
   "source": [
    "lucky_divider = 0.5\n",
    "\n",
    "data['pct_turnout'] = (data.found_ballots / data.registered_voters) * 100\n",
    "data['pct_yes']     = (data.yes_votes / data.found_ballots) * 100\n",
    "\n",
    "data['lucky_turnout'] = data['pct_turnout'] % lucky_divider == 0\n",
    "data['lucky_yes'] = data['pct_yes'] % lucky_divider == 0\n",
    "\n",
    "data['lucky_all'] = data.progress_apply(lambda x: x.lucky_turnout & x.lucky_yes, axis=1)\n",
    "data['lucky_any'] = data.progress_apply(lambda x: x.lucky_turnout | x.lucky_yes, axis=1)"
   ]
  },
  {
   "cell_type": "code",
   "execution_count": 16,
   "metadata": {},
   "outputs": [
    {
     "name": "stdout",
     "output_type": "stream",
     "text": [
      "Подвыборка из 67.25% участков\n"
     ]
    }
   ],
   "source": [
    "## Удалим из выборки потенциальные участки на предприятиях, военных частях и больницах, с небольшим числом зарегистрированных избирателей\n",
    "## Как правило на таких участках 100% явка и это относительно нормально, и не свидетельствует о фальсификациях\n",
    "data_ = data[data.registered_voters > 500]\n",
    "print(f\"Подвыборка из {(len(data_) / len(data)) * 100:.2f}% участков\")"
   ]
  },
  {
   "cell_type": "markdown",
   "metadata": {},
   "source": [
    "### Явка"
   ]
  },
  {
   "cell_type": "code",
   "execution_count": 17,
   "metadata": {},
   "outputs": [
    {
     "name": "stdout",
     "output_type": "stream",
     "text": [
      "Самые часто-встречащиеся проценты явки\n",
      "----------------------------------------\n",
      "       100.0         |    212    \n",
      "        75.0         |     57    \n",
      "        90.0         |     39    \n",
      "        50.0         |     33    \n",
      "        80.0         |     31    \n",
      "        95.0         |     25    \n",
      " 85.71428571428571   |     25    \n",
      " 66.66666666666666   |     20    \n",
      "  90.9090909090909   |     19    \n",
      "        40.0         |     17    \n",
      "        87.5         |     16    \n",
      " 83.33333333333334   |     14    \n",
      " 71.42857142857143   |     14    \n",
      "        70.0         |     14    \n",
      "  92.3076923076923   |     14    \n",
      " 77.77777777777779   |     12    \n",
      "        60.0         |     12    \n",
      " 91.66666666666666   |     12    \n",
      " 80.95238095238095   |     11    \n",
      " 86.20689655172413   |     11    \n"
     ]
    }
   ],
   "source": [
    "print(\"Самые часто-встречащиеся проценты явки\")\n",
    "print(\"-\"*40)\n",
    "turnout_counts = data_['pct_turnout'].value_counts()\n",
    "for key, val in list(turnout_counts.iteritems())[:20]:\n",
    "    print(f\"{key:^20} | {val:^10}\")"
   ]
  },
  {
   "cell_type": "code",
   "execution_count": 18,
   "metadata": {},
   "outputs": [
    {
     "name": "stdout",
     "output_type": "stream",
     "text": [
      "612 участков, на которых процент явки нацело делится на 0.5\n"
     ]
    }
   ],
   "source": [
    "print(f\"{len(data_[data_['pct_turnout'] % lucky_divider == 0])} участков, на которых процент явки нацело делится на {lucky_divider}\")"
   ]
  },
  {
   "cell_type": "markdown",
   "metadata": {},
   "source": [
    "### Голоса ЗА поправки"
   ]
  },
  {
   "cell_type": "code",
   "execution_count": 19,
   "metadata": {},
   "outputs": [
    {
     "name": "stdout",
     "output_type": "stream",
     "text": [
      "Самые часто-встречащиеся проценты голосов ЗА поправки\n",
      "----------------------------------------\n",
      "       100.0         |    212    \n",
      "        75.0         |     57    \n",
      "        90.0         |     39    \n",
      "        50.0         |     33    \n",
      "        80.0         |     31    \n",
      "        95.0         |     25    \n",
      " 85.71428571428571   |     25    \n",
      " 66.66666666666666   |     20    \n",
      "  90.9090909090909   |     19    \n",
      "        40.0         |     17    \n",
      "        87.5         |     16    \n",
      " 83.33333333333334   |     14    \n",
      " 71.42857142857143   |     14    \n",
      "        70.0         |     14    \n",
      "  92.3076923076923   |     14    \n",
      " 77.77777777777779   |     12    \n",
      "        60.0         |     12    \n",
      " 91.66666666666666   |     12    \n",
      " 80.95238095238095   |     11    \n",
      " 86.20689655172413   |     11    \n"
     ]
    }
   ],
   "source": [
    "print(\"Самые часто-встречащиеся проценты голосов ЗА поправки\")\n",
    "print(\"-\"*40)\n",
    "yes_counts = data_['pct_yes'].value_counts()\n",
    "for key, val in list(turnout_counts.iteritems())[:20]:\n",
    "    print(f\"{key:^20} | {val:^10}\")"
   ]
  },
  {
   "cell_type": "code",
   "execution_count": 20,
   "metadata": {},
   "outputs": [
    {
     "name": "stdout",
     "output_type": "stream",
     "text": [
      "713 участков, на которых процент голосов ЗА нацело делится на 0.5\n"
     ]
    }
   ],
   "source": [
    "print(f\"{len(data_[data_['pct_yes'] % lucky_divider == 0])} участков, на которых процент голосов ЗА нацело делится на {lucky_divider}\")"
   ]
  },
  {
   "cell_type": "markdown",
   "metadata": {},
   "source": [
    "### Что чаще рисуют, голоса ЗА или явку(или и то и то)?"
   ]
  },
  {
   "cell_type": "code",
   "execution_count": 21,
   "metadata": {},
   "outputs": [
    {
     "data": {
      "text/plain": [
       "False    64463\n",
       "True       612\n",
       "Name: lucky_turnout, dtype: int64"
      ]
     },
     "execution_count": 21,
     "metadata": {},
     "output_type": "execute_result"
    }
   ],
   "source": [
    "data_['lucky_turnout'].value_counts()"
   ]
  },
  {
   "cell_type": "code",
   "execution_count": 22,
   "metadata": {},
   "outputs": [
    {
     "data": {
      "text/plain": [
       "False    64362\n",
       "True       713\n",
       "Name: lucky_yes, dtype: int64"
      ]
     },
     "execution_count": 22,
     "metadata": {},
     "output_type": "execute_result"
    }
   ],
   "source": [
    "data_['lucky_yes'].value_counts()"
   ]
  },
  {
   "cell_type": "code",
   "execution_count": 23,
   "metadata": {},
   "outputs": [
    {
     "data": {
      "text/plain": [
       "False    65066\n",
       "True         9\n",
       "Name: lucky_all, dtype: int64"
      ]
     },
     "execution_count": 23,
     "metadata": {},
     "output_type": "execute_result"
    }
   ],
   "source": [
    "data_['lucky_all'].value_counts()"
   ]
  },
  {
   "cell_type": "markdown",
   "metadata": {},
   "source": [
    "Чаще рисуют явку, чуть реже голоса ЗА, но почти никогда не рисуют и то и другое одновременно"
   ]
  },
  {
   "cell_type": "markdown",
   "metadata": {},
   "source": [
    "## Какие регионы попали в ловушку удобных чисел"
   ]
  },
  {
   "cell_type": "code",
   "execution_count": 28,
   "metadata": {},
   "outputs": [
    {
     "data": {
      "text/plain": [
       "Московская область                          73\n",
       "Краснодарский край                          67\n",
       "город Москва                                58\n",
       "Территория за пределами РФ                  45\n",
       "город Санкт-Петербург                       42\n",
       "Нижегородская область                       35\n",
       "Ставропольский край                         35\n",
       "Республика Башкортостан                     35\n",
       "Саратовская область                         34\n",
       "Республика Дагестан                         34\n",
       "Ростовская область                          34\n",
       "Свердловская область                        32\n",
       "Пермский край                               32\n",
       "Воронежская область                         30\n",
       "Республика Татарстан (Татарстан)            30\n",
       "Волгоградская область                       28\n",
       "Челябинская область                         27\n",
       "Ленинградская область                       24\n",
       "Иркутская область                           24\n",
       "Новосибирская область                       23\n",
       "Брянская область                            20\n",
       "Кемеровская область - Кузбасс               19\n",
       "Хабаровский край                            18\n",
       "Чувашская Республика - Чувашия              18\n",
       "Приморский край                             18\n",
       "Республика Тыва                             18\n",
       "Красноярский край                           17\n",
       "Оренбургская область                        17\n",
       "Ивановская область                          14\n",
       "Белгородская область                        14\n",
       "Алтайский край                              14\n",
       "Республика Крым                             14\n",
       "Удмуртская Республика                       13\n",
       "Пензенская область                          13\n",
       "Кировская область                           13\n",
       "Тюменская область                           13\n",
       "Новгородская область                        12\n",
       "Тульская область                            12\n",
       "Рязанская область                           12\n",
       "Владимирская область                        12\n",
       "Республика Мордовия                         11\n",
       "Омская область                              11\n",
       "Республика Бурятия                          11\n",
       "Республика Саха (Якутия)                    11\n",
       "Самарская область                           11\n",
       "Забайкальский край                          10\n",
       "Томская область                             10\n",
       "Курская область                             10\n",
       "Тамбовская область                          10\n",
       "Архангельская область                       10\n",
       "Амурская область                             9\n",
       "Мурманская область                           9\n",
       "Республика Северная Осетия - Алания          9\n",
       "Ульяновская область                          8\n",
       "Смоленская область                           8\n",
       "Ярославская область                          8\n",
       "Чеченская Республика                         8\n",
       "Республика Марий Эл                          7\n",
       "Калужская область                            7\n",
       "Псковская область                            7\n",
       "Липецкая область                             7\n",
       "Курганская область                           6\n",
       "Кабардино-Балкарская Республика              6\n",
       "Астраханская область                         6\n",
       "Сахалинская область                          5\n",
       "Республика Хакасия                           5\n",
       "Орловская область                            5\n",
       "Камчатский край                              5\n",
       "Республика Карелия                           5\n",
       "Калининградская область                      4\n",
       "Тверская область                             4\n",
       "Республика Алтай                             4\n",
       "Вологодская область                          4\n",
       "Костромская область                          4\n",
       "Республика Коми                              4\n",
       "Республика Калмыкия                          3\n",
       "Республика Адыгея (Адыгея)                   3\n",
       "Ханты-Мансийский автономный округ - Югра     2\n",
       "Ямало-Ненецкий автономный округ              2\n",
       "Магаданская область                          1\n",
       "Еврейская автономная область                 1\n",
       "Республика Ингушетия                         1\n",
       "Карачаево-Черкесская Республика              1\n",
       "Name: region_name, dtype: int64"
      ]
     },
     "execution_count": 28,
     "metadata": {},
     "output_type": "execute_result"
    }
   ],
   "source": [
    "data_[data_['lucky_any']]['region_name'].value_counts()"
   ]
  },
  {
   "cell_type": "markdown",
   "metadata": {},
   "source": [
    "## Суммарно больше рисовали красивые числа в Москве и области, Питере, Краснодарском крае. Возможно рисовали и на зарубежных участках, но хз, они сами по себе странные."
   ]
  },
  {
   "cell_type": "code",
   "execution_count": 29,
   "metadata": {},
   "outputs": [
    {
     "data": {
      "text/html": [
       "<div>\n",
       "<style scoped>\n",
       "    .dataframe tbody tr th:only-of-type {\n",
       "        vertical-align: middle;\n",
       "    }\n",
       "\n",
       "    .dataframe tbody tr th {\n",
       "        vertical-align: top;\n",
       "    }\n",
       "\n",
       "    .dataframe thead th {\n",
       "        text-align: right;\n",
       "    }\n",
       "</style>\n",
       "<table border=\"1\" class=\"dataframe\">\n",
       "  <thead>\n",
       "    <tr style=\"text-align: right;\">\n",
       "      <th></th>\n",
       "      <th>region_name</th>\n",
       "      <th>tik_name</th>\n",
       "      <th>uik_name</th>\n",
       "      <th>registered_voters</th>\n",
       "      <th>used_ballots</th>\n",
       "      <th>found_ballots</th>\n",
       "      <th>incorrect_ballots</th>\n",
       "      <th>yes_votes</th>\n",
       "      <th>no_votes</th>\n",
       "      <th>latitude</th>\n",
       "      <th>longitude</th>\n",
       "      <th>pct_turnout</th>\n",
       "      <th>pct_yes</th>\n",
       "      <th>lucky_turnout</th>\n",
       "      <th>lucky_yes</th>\n",
       "      <th>lucky_all</th>\n",
       "      <th>lucky_any</th>\n",
       "    </tr>\n",
       "  </thead>\n",
       "  <tbody>\n",
       "    <tr>\n",
       "      <th>2651</th>\n",
       "      <td>Республика Башкортостан</td>\n",
       "      <td>49 Стерлитамакская городская</td>\n",
       "      <td>УИК №683</td>\n",
       "      <td>1888</td>\n",
       "      <td>1652</td>\n",
       "      <td>1652</td>\n",
       "      <td>2</td>\n",
       "      <td>1239</td>\n",
       "      <td>411</td>\n",
       "      <td>53.652513</td>\n",
       "      <td>55.951040</td>\n",
       "      <td>87.5</td>\n",
       "      <td>75.0</td>\n",
       "      <td>True</td>\n",
       "      <td>True</td>\n",
       "      <td>True</td>\n",
       "      <td>True</td>\n",
       "    </tr>\n",
       "    <tr>\n",
       "      <th>3011</th>\n",
       "      <td>Республика Башкортостан</td>\n",
       "      <td>55 Уфа, Кировская</td>\n",
       "      <td>УИК №164</td>\n",
       "      <td>604</td>\n",
       "      <td>604</td>\n",
       "      <td>604</td>\n",
       "      <td>0</td>\n",
       "      <td>604</td>\n",
       "      <td>0</td>\n",
       "      <td>NaN</td>\n",
       "      <td>NaN</td>\n",
       "      <td>100.0</td>\n",
       "      <td>100.0</td>\n",
       "      <td>True</td>\n",
       "      <td>True</td>\n",
       "      <td>True</td>\n",
       "      <td>True</td>\n",
       "    </tr>\n",
       "    <tr>\n",
       "      <th>3330</th>\n",
       "      <td>Республика Башкортостан</td>\n",
       "      <td>61 Учалинская</td>\n",
       "      <td>УИК №3093</td>\n",
       "      <td>2000</td>\n",
       "      <td>1900</td>\n",
       "      <td>1900</td>\n",
       "      <td>0</td>\n",
       "      <td>1805</td>\n",
       "      <td>95</td>\n",
       "      <td>54.207878</td>\n",
       "      <td>59.598730</td>\n",
       "      <td>95.0</td>\n",
       "      <td>95.0</td>\n",
       "      <td>True</td>\n",
       "      <td>True</td>\n",
       "      <td>True</td>\n",
       "      <td>True</td>\n",
       "    </tr>\n",
       "    <tr>\n",
       "      <th>55160</th>\n",
       "      <td>Московская область</td>\n",
       "      <td>36 Люберецкая городская</td>\n",
       "      <td>УИК №1463</td>\n",
       "      <td>1380</td>\n",
       "      <td>1035</td>\n",
       "      <td>1035</td>\n",
       "      <td>5</td>\n",
       "      <td>828</td>\n",
       "      <td>202</td>\n",
       "      <td>55.669821</td>\n",
       "      <td>37.878534</td>\n",
       "      <td>75.0</td>\n",
       "      <td>80.0</td>\n",
       "      <td>True</td>\n",
       "      <td>True</td>\n",
       "      <td>True</td>\n",
       "      <td>True</td>\n",
       "    </tr>\n",
       "    <tr>\n",
       "      <th>58764</th>\n",
       "      <td>Нижегородская область</td>\n",
       "      <td>13 Ветлужская</td>\n",
       "      <td>УИК №522</td>\n",
       "      <td>675</td>\n",
       "      <td>540</td>\n",
       "      <td>540</td>\n",
       "      <td>0</td>\n",
       "      <td>432</td>\n",
       "      <td>108</td>\n",
       "      <td>58.000555</td>\n",
       "      <td>45.125448</td>\n",
       "      <td>80.0</td>\n",
       "      <td>80.0</td>\n",
       "      <td>True</td>\n",
       "      <td>True</td>\n",
       "      <td>True</td>\n",
       "      <td>True</td>\n",
       "    </tr>\n",
       "    <tr>\n",
       "      <th>65235</th>\n",
       "      <td>Оренбургская область</td>\n",
       "      <td>6 Беляевская</td>\n",
       "      <td>УИК №197</td>\n",
       "      <td>625</td>\n",
       "      <td>500</td>\n",
       "      <td>500</td>\n",
       "      <td>5</td>\n",
       "      <td>405</td>\n",
       "      <td>90</td>\n",
       "      <td>51.368448</td>\n",
       "      <td>55.799254</td>\n",
       "      <td>80.0</td>\n",
       "      <td>81.0</td>\n",
       "      <td>True</td>\n",
       "      <td>True</td>\n",
       "      <td>True</td>\n",
       "      <td>True</td>\n",
       "    </tr>\n",
       "    <tr>\n",
       "      <th>76390</th>\n",
       "      <td>Саратовская область</td>\n",
       "      <td>46 Энгельсская</td>\n",
       "      <td>УИК №1798</td>\n",
       "      <td>2500</td>\n",
       "      <td>1850</td>\n",
       "      <td>1850</td>\n",
       "      <td>0</td>\n",
       "      <td>1739</td>\n",
       "      <td>111</td>\n",
       "      <td>51.468896</td>\n",
       "      <td>46.146375</td>\n",
       "      <td>74.0</td>\n",
       "      <td>94.0</td>\n",
       "      <td>True</td>\n",
       "      <td>True</td>\n",
       "      <td>True</td>\n",
       "      <td>True</td>\n",
       "    </tr>\n",
       "    <tr>\n",
       "      <th>89605</th>\n",
       "      <td>город Москва</td>\n",
       "      <td>4 район Гольяново</td>\n",
       "      <td>УИК №986</td>\n",
       "      <td>1940</td>\n",
       "      <td>1455</td>\n",
       "      <td>1455</td>\n",
       "      <td>3</td>\n",
       "      <td>1164</td>\n",
       "      <td>288</td>\n",
       "      <td>55.818680</td>\n",
       "      <td>37.828892</td>\n",
       "      <td>75.0</td>\n",
       "      <td>80.0</td>\n",
       "      <td>True</td>\n",
       "      <td>True</td>\n",
       "      <td>True</td>\n",
       "      <td>True</td>\n",
       "    </tr>\n",
       "    <tr>\n",
       "      <th>92000</th>\n",
       "      <td>город Москва</td>\n",
       "      <td>100 Южнопортовый район</td>\n",
       "      <td>УИК №1644</td>\n",
       "      <td>1760</td>\n",
       "      <td>1100</td>\n",
       "      <td>1100</td>\n",
       "      <td>0</td>\n",
       "      <td>902</td>\n",
       "      <td>198</td>\n",
       "      <td>55.706482</td>\n",
       "      <td>37.672190</td>\n",
       "      <td>62.5</td>\n",
       "      <td>82.0</td>\n",
       "      <td>True</td>\n",
       "      <td>True</td>\n",
       "      <td>True</td>\n",
       "      <td>True</td>\n",
       "    </tr>\n",
       "  </tbody>\n",
       "</table>\n",
       "</div>"
      ],
      "text/plain": [
       "                   region_name                      tik_name   uik_name  \\\n",
       "2651   Республика Башкортостан  49 Стерлитамакская городская   УИК №683   \n",
       "3011   Республика Башкортостан             55 Уфа, Кировская   УИК №164   \n",
       "3330   Республика Башкортостан                 61 Учалинская  УИК №3093   \n",
       "55160       Московская область       36 Люберецкая городская  УИК №1463   \n",
       "58764    Нижегородская область                 13 Ветлужская   УИК №522   \n",
       "65235     Оренбургская область                  6 Беляевская   УИК №197   \n",
       "76390      Саратовская область                46 Энгельсская  УИК №1798   \n",
       "89605             город Москва             4 район Гольяново   УИК №986   \n",
       "92000             город Москва        100 Южнопортовый район  УИК №1644   \n",
       "\n",
       "       registered_voters  used_ballots  found_ballots  incorrect_ballots  \\\n",
       "2651                1888          1652           1652                  2   \n",
       "3011                 604           604            604                  0   \n",
       "3330                2000          1900           1900                  0   \n",
       "55160               1380          1035           1035                  5   \n",
       "58764                675           540            540                  0   \n",
       "65235                625           500            500                  5   \n",
       "76390               2500          1850           1850                  0   \n",
       "89605               1940          1455           1455                  3   \n",
       "92000               1760          1100           1100                  0   \n",
       "\n",
       "       yes_votes  no_votes   latitude  longitude  pct_turnout  pct_yes  \\\n",
       "2651        1239       411  53.652513  55.951040         87.5     75.0   \n",
       "3011         604         0        NaN        NaN        100.0    100.0   \n",
       "3330        1805        95  54.207878  59.598730         95.0     95.0   \n",
       "55160        828       202  55.669821  37.878534         75.0     80.0   \n",
       "58764        432       108  58.000555  45.125448         80.0     80.0   \n",
       "65235        405        90  51.368448  55.799254         80.0     81.0   \n",
       "76390       1739       111  51.468896  46.146375         74.0     94.0   \n",
       "89605       1164       288  55.818680  37.828892         75.0     80.0   \n",
       "92000        902       198  55.706482  37.672190         62.5     82.0   \n",
       "\n",
       "       lucky_turnout  lucky_yes  lucky_all  lucky_any  \n",
       "2651            True       True       True       True  \n",
       "3011            True       True       True       True  \n",
       "3330            True       True       True       True  \n",
       "55160           True       True       True       True  \n",
       "58764           True       True       True       True  \n",
       "65235           True       True       True       True  \n",
       "76390           True       True       True       True  \n",
       "89605           True       True       True       True  \n",
       "92000           True       True       True       True  "
      ]
     },
     "execution_count": 29,
     "metadata": {},
     "output_type": "execute_result"
    }
   ],
   "source": [
    "data_[data_['lucky_all']]"
   ]
  },
  {
   "cell_type": "code",
   "execution_count": 30,
   "metadata": {},
   "outputs": [],
   "source": [
    "data['lucky_numbers'] = data['lucky_any'].astype(int)"
   ]
  },
  {
   "cell_type": "code",
   "execution_count": 31,
   "metadata": {},
   "outputs": [],
   "source": [
    "data = data.drop(['lucky_yes', 'lucky_turnout', 'lucky_all', 'lucky_any'], axis=1)"
   ]
  },
  {
   "cell_type": "markdown",
   "metadata": {},
   "source": [
    "## Теперь дадим избиркомам право ошибится на 1-2 бюллетеня при рисовке, посмотрим на проценты явки\\голосов. Близкие к удобным числам"
   ]
  },
  {
   "cell_type": "code",
   "execution_count": 50,
   "metadata": {},
   "outputs": [],
   "source": [
    "tol = 1e-2\n",
    "data['close_lucky_turnout'] = np.isclose(data['pct_turnout'] % lucky_divider, [0] * len(data), atol=tol)\n",
    "data['close_lucky_yes']     = np.isclose(data['pct_yes'] % lucky_divider, [0] * len(data), atol=tol)\n",
    "\n",
    "data['close_lucky_any']     = data.apply(lambda x: x.close_lucky_turnout or x.close_lucky_yes, axis=1)\n",
    "data['close_lucky_all']     = data.apply(lambda x: x.close_lucky_turnout and x.close_lucky_yes, axis=1)"
   ]
  },
  {
   "cell_type": "code",
   "execution_count": 51,
   "metadata": {},
   "outputs": [],
   "source": [
    "data_ = data[data.registered_voters > 500]"
   ]
  },
  {
   "cell_type": "code",
   "execution_count": 52,
   "metadata": {},
   "outputs": [
    {
     "name": "stdout",
     "output_type": "stream",
     "text": [
      "598 участков, на которых процент явки нацело делится на 5.0 с точностью до 0.01\n"
     ]
    }
   ],
   "source": [
    "print(f\"{len(data_[data_['close_lucky_turnout']])} участков, на которых процент явки нацело делится на {lucky_divider} с точностью до {tol}\")"
   ]
  },
  {
   "cell_type": "code",
   "execution_count": 53,
   "metadata": {},
   "outputs": [
    {
     "name": "stdout",
     "output_type": "stream",
     "text": [
      "538 участков, на которых процент голосов ЗА нацело делится на 5.0 c точностью до 0.01\n"
     ]
    }
   ],
   "source": [
    "print(f\"{len(data_[data_['close_lucky_yes']])} участков, на которых процент голосов ЗА нацело делится на {lucky_divider} c точностью до {tol}\")"
   ]
  },
  {
   "cell_type": "code",
   "execution_count": 54,
   "metadata": {},
   "outputs": [
    {
     "name": "stdout",
     "output_type": "stream",
     "text": [
      "1126 участков всего с подозрением на нарушения такого рода\n"
     ]
    }
   ],
   "source": [
    "print(f\"{len(data_[data_['close_lucky_any']])} участков всего с подозрением на нарушения такого рода\")"
   ]
  },
  {
   "cell_type": "code",
   "execution_count": 55,
   "metadata": {},
   "outputs": [
    {
     "name": "stdout",
     "output_type": "stream",
     "text": [
      "10 участков нарисовали и явку и процент голосов одновременно\n"
     ]
    }
   ],
   "source": [
    "print(f\"{len(data_[data_['close_lucky_all']])} участков нарисовали и явку и процент голосов одновременно\")"
   ]
  },
  {
   "cell_type": "code",
   "execution_count": 56,
   "metadata": {},
   "outputs": [
    {
     "data": {
      "text/html": [
       "<div>\n",
       "<style scoped>\n",
       "    .dataframe tbody tr th:only-of-type {\n",
       "        vertical-align: middle;\n",
       "    }\n",
       "\n",
       "    .dataframe tbody tr th {\n",
       "        vertical-align: top;\n",
       "    }\n",
       "\n",
       "    .dataframe thead th {\n",
       "        text-align: right;\n",
       "    }\n",
       "</style>\n",
       "<table border=\"1\" class=\"dataframe\">\n",
       "  <thead>\n",
       "    <tr style=\"text-align: right;\">\n",
       "      <th></th>\n",
       "      <th>region_name</th>\n",
       "      <th>tik_name</th>\n",
       "      <th>uik_name</th>\n",
       "      <th>registered_voters</th>\n",
       "      <th>used_ballots</th>\n",
       "      <th>found_ballots</th>\n",
       "      <th>incorrect_ballots</th>\n",
       "      <th>yes_votes</th>\n",
       "      <th>no_votes</th>\n",
       "      <th>latitude</th>\n",
       "      <th>longitude</th>\n",
       "      <th>pct_turnout</th>\n",
       "      <th>pct_yes</th>\n",
       "      <th>lucky_numbers</th>\n",
       "      <th>close_lucky_turnout</th>\n",
       "      <th>close_lucky_yes</th>\n",
       "      <th>close_lucky_any</th>\n",
       "      <th>close_lucky_all</th>\n",
       "    </tr>\n",
       "  </thead>\n",
       "  <tbody>\n",
       "    <tr>\n",
       "      <th>3011</th>\n",
       "      <td>Республика Башкортостан</td>\n",
       "      <td>55 Уфа, Кировская</td>\n",
       "      <td>УИК №164</td>\n",
       "      <td>604</td>\n",
       "      <td>604</td>\n",
       "      <td>604</td>\n",
       "      <td>0</td>\n",
       "      <td>604</td>\n",
       "      <td>0</td>\n",
       "      <td>NaN</td>\n",
       "      <td>NaN</td>\n",
       "      <td>100.000000</td>\n",
       "      <td>100.000000</td>\n",
       "      <td>1</td>\n",
       "      <td>True</td>\n",
       "      <td>True</td>\n",
       "      <td>True</td>\n",
       "      <td>True</td>\n",
       "    </tr>\n",
       "    <tr>\n",
       "      <th>3330</th>\n",
       "      <td>Республика Башкортостан</td>\n",
       "      <td>61 Учалинская</td>\n",
       "      <td>УИК №3093</td>\n",
       "      <td>2000</td>\n",
       "      <td>1900</td>\n",
       "      <td>1900</td>\n",
       "      <td>0</td>\n",
       "      <td>1805</td>\n",
       "      <td>95</td>\n",
       "      <td>54.207878</td>\n",
       "      <td>59.598730</td>\n",
       "      <td>95.000000</td>\n",
       "      <td>95.000000</td>\n",
       "      <td>1</td>\n",
       "      <td>True</td>\n",
       "      <td>True</td>\n",
       "      <td>True</td>\n",
       "      <td>True</td>\n",
       "    </tr>\n",
       "    <tr>\n",
       "      <th>20229</th>\n",
       "      <td>Алтайский край</td>\n",
       "      <td>62 Топчихинская</td>\n",
       "      <td>УИК №1631</td>\n",
       "      <td>1057</td>\n",
       "      <td>370</td>\n",
       "      <td>370</td>\n",
       "      <td>1</td>\n",
       "      <td>259</td>\n",
       "      <td>110</td>\n",
       "      <td>52.782948</td>\n",
       "      <td>83.032834</td>\n",
       "      <td>35.004730</td>\n",
       "      <td>70.000000</td>\n",
       "      <td>1</td>\n",
       "      <td>True</td>\n",
       "      <td>True</td>\n",
       "      <td>True</td>\n",
       "      <td>True</td>\n",
       "    </tr>\n",
       "    <tr>\n",
       "      <th>24156</th>\n",
       "      <td>Краснодарский край</td>\n",
       "      <td>51 Тихорецкая районная</td>\n",
       "      <td>УИК №5108</td>\n",
       "      <td>1222</td>\n",
       "      <td>1161</td>\n",
       "      <td>1161</td>\n",
       "      <td>0</td>\n",
       "      <td>1103</td>\n",
       "      <td>58</td>\n",
       "      <td>45.671213</td>\n",
       "      <td>40.281260</td>\n",
       "      <td>95.008183</td>\n",
       "      <td>95.004307</td>\n",
       "      <td>0</td>\n",
       "      <td>True</td>\n",
       "      <td>True</td>\n",
       "      <td>True</td>\n",
       "      <td>True</td>\n",
       "    </tr>\n",
       "    <tr>\n",
       "      <th>31260</th>\n",
       "      <td>Ставропольский край</td>\n",
       "      <td>31 Ставрополь, Промышленная</td>\n",
       "      <td>УИК №126</td>\n",
       "      <td>1122</td>\n",
       "      <td>1122</td>\n",
       "      <td>1122</td>\n",
       "      <td>6</td>\n",
       "      <td>1066</td>\n",
       "      <td>50</td>\n",
       "      <td>NaN</td>\n",
       "      <td>NaN</td>\n",
       "      <td>100.000000</td>\n",
       "      <td>95.008913</td>\n",
       "      <td>1</td>\n",
       "      <td>True</td>\n",
       "      <td>True</td>\n",
       "      <td>True</td>\n",
       "      <td>True</td>\n",
       "    </tr>\n",
       "    <tr>\n",
       "      <th>36371</th>\n",
       "      <td>Брянская область</td>\n",
       "      <td>18 Клинцовская городская</td>\n",
       "      <td>УИК №547</td>\n",
       "      <td>1890</td>\n",
       "      <td>1701</td>\n",
       "      <td>1701</td>\n",
       "      <td>90</td>\n",
       "      <td>1446</td>\n",
       "      <td>165</td>\n",
       "      <td>52.756184</td>\n",
       "      <td>32.255738</td>\n",
       "      <td>90.000000</td>\n",
       "      <td>85.008818</td>\n",
       "      <td>1</td>\n",
       "      <td>True</td>\n",
       "      <td>True</td>\n",
       "      <td>True</td>\n",
       "      <td>True</td>\n",
       "    </tr>\n",
       "    <tr>\n",
       "      <th>55160</th>\n",
       "      <td>Московская область</td>\n",
       "      <td>36 Люберецкая городская</td>\n",
       "      <td>УИК №1463</td>\n",
       "      <td>1380</td>\n",
       "      <td>1035</td>\n",
       "      <td>1035</td>\n",
       "      <td>5</td>\n",
       "      <td>828</td>\n",
       "      <td>202</td>\n",
       "      <td>55.669821</td>\n",
       "      <td>37.878534</td>\n",
       "      <td>75.000000</td>\n",
       "      <td>80.000000</td>\n",
       "      <td>1</td>\n",
       "      <td>True</td>\n",
       "      <td>True</td>\n",
       "      <td>True</td>\n",
       "      <td>True</td>\n",
       "    </tr>\n",
       "    <tr>\n",
       "      <th>58764</th>\n",
       "      <td>Нижегородская область</td>\n",
       "      <td>13 Ветлужская</td>\n",
       "      <td>УИК №522</td>\n",
       "      <td>675</td>\n",
       "      <td>540</td>\n",
       "      <td>540</td>\n",
       "      <td>0</td>\n",
       "      <td>432</td>\n",
       "      <td>108</td>\n",
       "      <td>58.000555</td>\n",
       "      <td>45.125448</td>\n",
       "      <td>80.000000</td>\n",
       "      <td>80.000000</td>\n",
       "      <td>1</td>\n",
       "      <td>True</td>\n",
       "      <td>True</td>\n",
       "      <td>True</td>\n",
       "      <td>True</td>\n",
       "    </tr>\n",
       "    <tr>\n",
       "      <th>89605</th>\n",
       "      <td>город Москва</td>\n",
       "      <td>4 район Гольяново</td>\n",
       "      <td>УИК №986</td>\n",
       "      <td>1940</td>\n",
       "      <td>1455</td>\n",
       "      <td>1455</td>\n",
       "      <td>3</td>\n",
       "      <td>1164</td>\n",
       "      <td>288</td>\n",
       "      <td>55.818680</td>\n",
       "      <td>37.828892</td>\n",
       "      <td>75.000000</td>\n",
       "      <td>80.000000</td>\n",
       "      <td>1</td>\n",
       "      <td>True</td>\n",
       "      <td>True</td>\n",
       "      <td>True</td>\n",
       "      <td>True</td>\n",
       "    </tr>\n",
       "    <tr>\n",
       "      <th>94255</th>\n",
       "      <td>город Санкт-Петербург</td>\n",
       "      <td>18 Территориальная избирательная комиссия №18</td>\n",
       "      <td>УИК №1653</td>\n",
       "      <td>2535</td>\n",
       "      <td>2155</td>\n",
       "      <td>2155</td>\n",
       "      <td>18</td>\n",
       "      <td>1724</td>\n",
       "      <td>413</td>\n",
       "      <td>NaN</td>\n",
       "      <td>NaN</td>\n",
       "      <td>85.009862</td>\n",
       "      <td>80.000000</td>\n",
       "      <td>1</td>\n",
       "      <td>True</td>\n",
       "      <td>True</td>\n",
       "      <td>True</td>\n",
       "      <td>True</td>\n",
       "    </tr>\n",
       "  </tbody>\n",
       "</table>\n",
       "</div>"
      ],
      "text/plain": [
       "                   region_name                                       tik_name  \\\n",
       "3011   Республика Башкортостан                              55 Уфа, Кировская   \n",
       "3330   Республика Башкортостан                                  61 Учалинская   \n",
       "20229           Алтайский край                                62 Топчихинская   \n",
       "24156       Краснодарский край                         51 Тихорецкая районная   \n",
       "31260      Ставропольский край                    31 Ставрополь, Промышленная   \n",
       "36371         Брянская область                       18 Клинцовская городская   \n",
       "55160       Московская область                        36 Люберецкая городская   \n",
       "58764    Нижегородская область                                  13 Ветлужская   \n",
       "89605             город Москва                              4 район Гольяново   \n",
       "94255    город Санкт-Петербург  18 Территориальная избирательная комиссия №18   \n",
       "\n",
       "        uik_name  registered_voters  used_ballots  found_ballots  \\\n",
       "3011    УИК №164                604           604            604   \n",
       "3330   УИК №3093               2000          1900           1900   \n",
       "20229  УИК №1631               1057           370            370   \n",
       "24156  УИК №5108               1222          1161           1161   \n",
       "31260   УИК №126               1122          1122           1122   \n",
       "36371   УИК №547               1890          1701           1701   \n",
       "55160  УИК №1463               1380          1035           1035   \n",
       "58764   УИК №522                675           540            540   \n",
       "89605   УИК №986               1940          1455           1455   \n",
       "94255  УИК №1653               2535          2155           2155   \n",
       "\n",
       "       incorrect_ballots  yes_votes  no_votes   latitude  longitude  \\\n",
       "3011                   0        604         0        NaN        NaN   \n",
       "3330                   0       1805        95  54.207878  59.598730   \n",
       "20229                  1        259       110  52.782948  83.032834   \n",
       "24156                  0       1103        58  45.671213  40.281260   \n",
       "31260                  6       1066        50        NaN        NaN   \n",
       "36371                 90       1446       165  52.756184  32.255738   \n",
       "55160                  5        828       202  55.669821  37.878534   \n",
       "58764                  0        432       108  58.000555  45.125448   \n",
       "89605                  3       1164       288  55.818680  37.828892   \n",
       "94255                 18       1724       413        NaN        NaN   \n",
       "\n",
       "       pct_turnout     pct_yes  lucky_numbers  close_lucky_turnout  \\\n",
       "3011    100.000000  100.000000              1                 True   \n",
       "3330     95.000000   95.000000              1                 True   \n",
       "20229    35.004730   70.000000              1                 True   \n",
       "24156    95.008183   95.004307              0                 True   \n",
       "31260   100.000000   95.008913              1                 True   \n",
       "36371    90.000000   85.008818              1                 True   \n",
       "55160    75.000000   80.000000              1                 True   \n",
       "58764    80.000000   80.000000              1                 True   \n",
       "89605    75.000000   80.000000              1                 True   \n",
       "94255    85.009862   80.000000              1                 True   \n",
       "\n",
       "       close_lucky_yes  close_lucky_any  close_lucky_all  \n",
       "3011              True             True             True  \n",
       "3330              True             True             True  \n",
       "20229             True             True             True  \n",
       "24156             True             True             True  \n",
       "31260             True             True             True  \n",
       "36371             True             True             True  \n",
       "55160             True             True             True  \n",
       "58764             True             True             True  \n",
       "89605             True             True             True  \n",
       "94255             True             True             True  "
      ]
     },
     "execution_count": 56,
     "metadata": {},
     "output_type": "execute_result"
    }
   ],
   "source": [
    "data_[data_['close_lucky_all']]"
   ]
  },
  {
   "cell_type": "markdown",
   "metadata": {},
   "source": [
    "### Отличившиеся регионы"
   ]
  },
  {
   "cell_type": "code",
   "execution_count": 57,
   "metadata": {},
   "outputs": [
    {
     "data": {
      "text/plain": [
       "Московская область                          68\n",
       "Краснодарский край                          55\n",
       "город Москва                                48\n",
       "город Санкт-Петербург                       47\n",
       "Республика Башкортостан                     46\n",
       "Территория за пределами РФ                  44\n",
       "Ставропольский край                         43\n",
       "Нижегородская область                       34\n",
       "Ростовская область                          34\n",
       "Республика Дагестан                         33\n",
       "Воронежская область                         27\n",
       "Волгоградская область                       27\n",
       "Брянская область                            25\n",
       "Республика Татарстан (Татарстан)            25\n",
       "Свердловская область                        22\n",
       "Саратовская область                         22\n",
       "Пермский край                               20\n",
       "Приморский край                             20\n",
       "Ленинградская область                       19\n",
       "Челябинская область                         19\n",
       "Кемеровская область - Кузбасс               19\n",
       "Красноярский край                           16\n",
       "Тюменская область                           16\n",
       "Республика Тыва                             15\n",
       "Иркутская область                           15\n",
       "Республика Крым                             14\n",
       "Оренбургская область                        14\n",
       "Пензенская область                          12\n",
       "Хабаровский край                            12\n",
       "Самарская область                           11\n",
       "Тульская область                            11\n",
       "Новосибирская область                       11\n",
       "Белгородская область                        11\n",
       "Омская область                              10\n",
       "Алтайский край                              10\n",
       "Чувашская Республика - Чувашия              10\n",
       "Ивановская область                           9\n",
       "Смоленская область                           9\n",
       "Владимирская область                         9\n",
       "Тамбовская область                           8\n",
       "Кировская область                            8\n",
       "Томская область                              8\n",
       "Новгородская область                         8\n",
       "Ульяновская область                          8\n",
       "Республика Бурятия                           8\n",
       "Чеченская Республика                         7\n",
       "Республика Марий Эл                          7\n",
       "Ярославская область                          7\n",
       "Республика Саха (Якутия)                     7\n",
       "Республика Коми                              7\n",
       "Забайкальский край                           6\n",
       "Амурская область                             6\n",
       "Тверская область                             6\n",
       "Астраханская область                         6\n",
       "Архангельская область                        6\n",
       "Мурманская область                           6\n",
       "Липецкая область                             6\n",
       "Сахалинская область                          5\n",
       "Ямало-Ненецкий автономный округ              5\n",
       "Курганская область                           5\n",
       "Рязанская область                            5\n",
       "Республика Хакасия                           5\n",
       "Псковская область                            5\n",
       "Удмуртская Республика                        5\n",
       "Республика Северная Осетия - Алания          4\n",
       "Ханты-Мансийский автономный округ - Югра     4\n",
       "Республика Мордовия                          4\n",
       "Калининградская область                      4\n",
       "Республика Карелия                           4\n",
       "Кабардино-Балкарская Республика              4\n",
       "Курская область                              4\n",
       "Орловская область                            4\n",
       "Костромская область                          3\n",
       "Камчатский край                              3\n",
       "Республика Адыгея (Адыгея)                   3\n",
       "Калужская область                            3\n",
       "Вологодская область                          2\n",
       "Республика Калмыкия                          2\n",
       "Карачаево-Черкесская Республика              2\n",
       "Республика Алтай                             1\n",
       "Магаданская область                          1\n",
       "Республика Ингушетия                         1\n",
       "Еврейская автономная область                 1\n",
       "Name: region_name, dtype: int64"
      ]
     },
     "execution_count": 57,
     "metadata": {},
     "output_type": "execute_result"
    }
   ],
   "source": [
    "data_[data_['close_lucky_any']]['region_name'].value_counts()"
   ]
  },
  {
   "cell_type": "code",
   "execution_count": null,
   "metadata": {},
   "outputs": [],
   "source": []
  }
 ],
 "metadata": {
  "kernelspec": {
   "display_name": "Python 3",
   "language": "python",
   "name": "python3"
  },
  "language_info": {
   "codemirror_mode": {
    "name": "ipython",
    "version": 3
   },
   "file_extension": ".py",
   "mimetype": "text/x-python",
   "name": "python",
   "nbconvert_exporter": "python",
   "pygments_lexer": "ipython3",
   "version": "3.7.7"
  }
 },
 "nbformat": 4,
 "nbformat_minor": 4
}
