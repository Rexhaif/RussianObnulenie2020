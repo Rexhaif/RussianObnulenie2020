{
 "cells": [
  {
   "cell_type": "code",
   "execution_count": 1,
   "metadata": {},
   "outputs": [],
   "source": [
    "import json\n",
    "import codecs\n",
    "def json_readr(file):\n",
    "    for line in codecs.open(file, mode=\"r\", encoding='utf-8-sig'):\n",
    "        yield json.loads(line)"
   ]
  },
  {
   "cell_type": "code",
   "execution_count": 2,
   "metadata": {},
   "outputs": [],
   "source": [
    "filename = 'protocols_json.txt'"
   ]
  },
  {
   "cell_type": "code",
   "execution_count": 3,
   "metadata": {},
   "outputs": [],
   "source": [
    "protocols = list(json_readr(filename))"
   ]
  },
  {
   "cell_type": "code",
   "execution_count": 4,
   "metadata": {},
   "outputs": [
    {
     "data": {
      "text/plain": [
       "96765"
      ]
     },
     "execution_count": 4,
     "metadata": {},
     "output_type": "execute_result"
    }
   ],
   "source": [
    "len(protocols)"
   ]
  },
  {
   "cell_type": "code",
   "execution_count": 5,
   "metadata": {},
   "outputs": [
    {
     "data": {
      "text/plain": [
       "{'loc': ['Общероссийское голосование по вопросу одобрения изменений в Конституцию Российской Федерации',\n",
       "  'Республика Адыгея (Адыгея)',\n",
       "  '1 Адыгейская',\n",
       "  'УИК №1'],\n",
       " 'url': 'http://www.vybory.izbirkom.ru/region/izbirkom?action=show&global=true&root=12000009&tvd=2012000434180&vrn=100100163596966&prver=0&pronetvd=null&region=0&sub_region=99&type=465&vibid=2012000434180',\n",
       " 'data': [{'line_num': '1',\n",
       "   'line_name': 'Число участников голосования, включенных в список участников голосования на момент окончания голосования',\n",
       "   'line_val': '2277'},\n",
       "  {'line_num': '2',\n",
       "   'line_name': 'Число бюллетеней, выданных участникам голосования',\n",
       "   'line_val': '1925'},\n",
       "  {'line_num': '3',\n",
       "   'line_name': 'Число бюллетеней, содержащихся в ящиках для голосования',\n",
       "   'line_val': '1925'},\n",
       "  {'line_num': '4',\n",
       "   'line_name': 'Число недействительных бюллетеней',\n",
       "   'line_val': '0'},\n",
       "  {'line_num': '5', 'line_name': 'ДА', 'line_val': '1749'},\n",
       "  {'line_num': '6', 'line_name': 'НЕТ', 'line_val': '176'}]}"
      ]
     },
     "execution_count": 5,
     "metadata": {},
     "output_type": "execute_result"
    }
   ],
   "source": [
    "protocols[0]"
   ]
  },
  {
   "cell_type": "code",
   "execution_count": 6,
   "metadata": {},
   "outputs": [],
   "source": [
    "uiks = [x for x in protocols if len(x['loc']) == 4]"
   ]
  },
  {
   "cell_type": "code",
   "execution_count": 7,
   "metadata": {},
   "outputs": [
    {
     "data": {
      "text/plain": [
       "96765"
      ]
     },
     "execution_count": 7,
     "metadata": {},
     "output_type": "execute_result"
    }
   ],
   "source": [
    "len(uiks)"
   ]
  },
  {
   "cell_type": "code",
   "execution_count": 8,
   "metadata": {},
   "outputs": [
    {
     "name": "stdout",
     "output_type": "stream",
     "text": [
      "57071119\n"
     ]
    }
   ],
   "source": [
    "summary = 0\n",
    "for x in uiks:\n",
    "    summary += int(x['data'][4]['line_val'])\n",
    "print(summary)"
   ]
  },
  {
   "cell_type": "code",
   "execution_count": 9,
   "metadata": {},
   "outputs": [],
   "source": [
    "regions = set()\n",
    "for x in uiks:\n",
    "    regions.add(x['loc'][1])"
   ]
  },
  {
   "cell_type": "code",
   "execution_count": 10,
   "metadata": {},
   "outputs": [
    {
     "name": "stdout",
     "output_type": "stream",
     "text": [
      "['Республика Хакасия', 'Чувашская Республика - Чувашия', 'Ивановская область', 'Ханты-Мансийский автономный округ - Югра', 'Камчатский край', 'Белгородская область', 'Курганская область', 'Воронежская область', 'Орловская область', 'Томская область', 'Республика Крым', 'Республика Северная Осетия - Алания', 'Республика Коми', 'Кировская область', 'Калининградская область', 'Вологодская область', 'Пензенская область', 'Еврейская автономная область', 'Алтайский край', 'Ярославская область', 'Нижегородская область', 'Кабардино-Балкарская Республика', 'Пермский край', 'Ненецкий автономный округ', 'Карачаево-Черкесская Республика', 'Курская область', 'Рязанская область', 'Свердловская область', 'Смоленская область', 'Республика Калмыкия', 'Забайкальский край', 'Мурманская область', 'Ямало-Ненецкий автономный округ', 'Саратовская область', 'Ульяновская область', 'Волгоградская область', 'Омская область', 'Ставропольский край', 'Приморский край', 'Оренбургская область', 'Республика Марий Эл', 'Республика Дагестан', 'Самарская область', 'Республика Бурятия', 'Республика Алтай', 'Московская область', 'Республика Саха (Якутия)', 'Республика Карелия', 'Новосибирская область', 'Архангельская область', 'Республика Мордовия', 'Ленинградская область', 'Тюменская область', 'Красноярский край', 'Иркутская область', 'Краснодарский край', 'Владимирская область', 'Тверская область', 'Челябинская область', 'Псковская область', 'Костромская область', 'Брянская область', 'Тамбовская область', 'город Севастополь', 'Калужская область', 'Магаданская область', 'Чукотский автономный округ', 'город Санкт-Петербург', 'Астраханская область', 'Республика Башкортостан', 'Ростовская область', 'Город Байконур (Республика Казахстан)', 'Хабаровский край', 'Сахалинская область', 'Республика Адыгея (Адыгея)', 'Кемеровская область - Кузбасс', 'Республика Ингушетия', 'Республика Татарстан (Татарстан)', 'Чеченская Республика', 'Липецкая область', 'Амурская область', 'Новгородская область', 'Территория за пределами РФ', 'Тульская область', 'Республика Тыва', 'Удмуртская Республика', 'город Москва']\n"
     ]
    }
   ],
   "source": [
    "print(list(regions))"
   ]
  },
  {
   "cell_type": "code",
   "execution_count": 11,
   "metadata": {},
   "outputs": [
    {
     "data": {
      "text/plain": [
       "{'loc': ['Общероссийское голосование по вопросу одобрения изменений в Конституцию Российской Федерации',\n",
       "  'Республика Адыгея (Адыгея)',\n",
       "  '1 Адыгейская',\n",
       "  'УИК №1'],\n",
       " 'url': 'http://www.vybory.izbirkom.ru/region/izbirkom?action=show&global=true&root=12000009&tvd=2012000434180&vrn=100100163596966&prver=0&pronetvd=null&region=0&sub_region=99&type=465&vibid=2012000434180',\n",
       " 'data': [{'line_num': '1',\n",
       "   'line_name': 'Число участников голосования, включенных в список участников голосования на момент окончания голосования',\n",
       "   'line_val': '2277'},\n",
       "  {'line_num': '2',\n",
       "   'line_name': 'Число бюллетеней, выданных участникам голосования',\n",
       "   'line_val': '1925'},\n",
       "  {'line_num': '3',\n",
       "   'line_name': 'Число бюллетеней, содержащихся в ящиках для голосования',\n",
       "   'line_val': '1925'},\n",
       "  {'line_num': '4',\n",
       "   'line_name': 'Число недействительных бюллетеней',\n",
       "   'line_val': '0'},\n",
       "  {'line_num': '5', 'line_name': 'ДА', 'line_val': '1749'},\n",
       "  {'line_num': '6', 'line_name': 'НЕТ', 'line_val': '176'}]}"
      ]
     },
     "execution_count": 11,
     "metadata": {},
     "output_type": "execute_result"
    }
   ],
   "source": [
    "uiks[0]"
   ]
  },
  {
   "cell_type": "code",
   "execution_count": 12,
   "metadata": {},
   "outputs": [],
   "source": [
    "loc_region = []\n",
    "loc_tik = []\n",
    "loc_uik = []\n",
    "protocol_1 = []\n",
    "protocol_2 = []\n",
    "protocol_3 = []\n",
    "protocol_4 = []\n",
    "protocol_5 = []\n",
    "protocol_6 = []"
   ]
  },
  {
   "cell_type": "code",
   "execution_count": 13,
   "metadata": {},
   "outputs": [],
   "source": [
    "for x in uiks:\n",
    "    loc_region.append(x['loc'][1])\n",
    "    loc_tik.append(x['loc'][2])\n",
    "    loc_uik.append(x['loc'][3])\n",
    "    protocol_1.append(int(x['data'][0]['line_val'])) #1\n",
    "    protocol_2.append(int(x['data'][1]['line_val'])) #2\n",
    "    protocol_3.append(int(x['data'][2]['line_val'])) #3\n",
    "    protocol_4.append(int(x['data'][3]['line_val'])) #4\n",
    "    protocol_5.append(int(x['data'][4]['line_val'])) #5\n",
    "    protocol_6.append(int(x['data'][5]['line_val'])) #6"
   ]
  },
  {
   "cell_type": "code",
   "execution_count": 14,
   "metadata": {},
   "outputs": [
    {
     "data": {
      "text/plain": [
       "96765"
      ]
     },
     "execution_count": 14,
     "metadata": {},
     "output_type": "execute_result"
    }
   ],
   "source": [
    "len(protocol_1)"
   ]
  },
  {
   "cell_type": "code",
   "execution_count": 15,
   "metadata": {},
   "outputs": [],
   "source": [
    "import pandas as pd"
   ]
  },
  {
   "cell_type": "code",
   "execution_count": 16,
   "metadata": {},
   "outputs": [],
   "source": [
    "uiks_dataframe = pd.DataFrame({\n",
    "    'region_name' : pd.Series(loc_region),\n",
    "    'tik_name' : pd.Series(loc_tik),\n",
    "    'uik_name' : pd.Series(loc_uik),\n",
    "    'registered_voters' : pd.Series(protocol_1),\n",
    "    'used_ballots': pd.Series(protocol_2),\n",
    "    'found_ballots' : pd.Series(protocol_3),\n",
    "    'incorrect_ballots' : pd.Series(protocol_4),\n",
    "    'yes_votes' : pd.Series(protocol_5),\n",
    "    'no_votes' : pd.Series(protocol_6)\n",
    "}, columns=[\n",
    "    'region_name',\n",
    "    'tik_name',\n",
    "    'uik_name',\n",
    "    'registered_voters',\n",
    "    'used_ballots',\n",
    "    'found_ballots',\n",
    "    'incorrect_ballots',\n",
    "    'yes_votes',\n",
    "    'no_votes'\n",
    "])"
   ]
  },
  {
   "cell_type": "code",
   "execution_count": 17,
   "metadata": {},
   "outputs": [
    {
     "data": {
      "text/html": [
       "<div>\n",
       "<style scoped>\n",
       "    .dataframe tbody tr th:only-of-type {\n",
       "        vertical-align: middle;\n",
       "    }\n",
       "\n",
       "    .dataframe tbody tr th {\n",
       "        vertical-align: top;\n",
       "    }\n",
       "\n",
       "    .dataframe thead th {\n",
       "        text-align: right;\n",
       "    }\n",
       "</style>\n",
       "<table border=\"1\" class=\"dataframe\">\n",
       "  <thead>\n",
       "    <tr style=\"text-align: right;\">\n",
       "      <th></th>\n",
       "      <th>region_name</th>\n",
       "      <th>tik_name</th>\n",
       "      <th>uik_name</th>\n",
       "      <th>registered_voters</th>\n",
       "      <th>used_ballots</th>\n",
       "      <th>found_ballots</th>\n",
       "      <th>incorrect_ballots</th>\n",
       "      <th>yes_votes</th>\n",
       "      <th>no_votes</th>\n",
       "    </tr>\n",
       "  </thead>\n",
       "  <tbody>\n",
       "    <tr>\n",
       "      <th>0</th>\n",
       "      <td>Республика Адыгея (Адыгея)</td>\n",
       "      <td>1 Адыгейская</td>\n",
       "      <td>УИК №1</td>\n",
       "      <td>2277</td>\n",
       "      <td>1925</td>\n",
       "      <td>1925</td>\n",
       "      <td>0</td>\n",
       "      <td>1749</td>\n",
       "      <td>176</td>\n",
       "    </tr>\n",
       "    <tr>\n",
       "      <th>1</th>\n",
       "      <td>Республика Адыгея (Адыгея)</td>\n",
       "      <td>1 Адыгейская</td>\n",
       "      <td>УИК №2</td>\n",
       "      <td>2694</td>\n",
       "      <td>2290</td>\n",
       "      <td>2290</td>\n",
       "      <td>7</td>\n",
       "      <td>2117</td>\n",
       "      <td>166</td>\n",
       "    </tr>\n",
       "    <tr>\n",
       "      <th>2</th>\n",
       "      <td>Республика Адыгея (Адыгея)</td>\n",
       "      <td>1 Адыгейская</td>\n",
       "      <td>УИК №3</td>\n",
       "      <td>2865</td>\n",
       "      <td>2441</td>\n",
       "      <td>2441</td>\n",
       "      <td>11</td>\n",
       "      <td>2171</td>\n",
       "      <td>259</td>\n",
       "    </tr>\n",
       "    <tr>\n",
       "      <th>3</th>\n",
       "      <td>Республика Адыгея (Адыгея)</td>\n",
       "      <td>1 Адыгейская</td>\n",
       "      <td>УИК №4</td>\n",
       "      <td>2054</td>\n",
       "      <td>1669</td>\n",
       "      <td>1669</td>\n",
       "      <td>8</td>\n",
       "      <td>1381</td>\n",
       "      <td>280</td>\n",
       "    </tr>\n",
       "    <tr>\n",
       "      <th>4</th>\n",
       "      <td>Республика Адыгея (Адыгея)</td>\n",
       "      <td>1 Адыгейская</td>\n",
       "      <td>УИК №5</td>\n",
       "      <td>714</td>\n",
       "      <td>607</td>\n",
       "      <td>607</td>\n",
       "      <td>1</td>\n",
       "      <td>473</td>\n",
       "      <td>133</td>\n",
       "    </tr>\n",
       "  </tbody>\n",
       "</table>\n",
       "</div>"
      ],
      "text/plain": [
       "                  region_name      tik_name uik_name  registered_voters  \\\n",
       "0  Республика Адыгея (Адыгея)  1 Адыгейская   УИК №1               2277   \n",
       "1  Республика Адыгея (Адыгея)  1 Адыгейская   УИК №2               2694   \n",
       "2  Республика Адыгея (Адыгея)  1 Адыгейская   УИК №3               2865   \n",
       "3  Республика Адыгея (Адыгея)  1 Адыгейская   УИК №4               2054   \n",
       "4  Республика Адыгея (Адыгея)  1 Адыгейская   УИК №5                714   \n",
       "\n",
       "   used_ballots  found_ballots  incorrect_ballots  yes_votes  no_votes  \n",
       "0          1925           1925                  0       1749       176  \n",
       "1          2290           2290                  7       2117       166  \n",
       "2          2441           2441                 11       2171       259  \n",
       "3          1669           1669                  8       1381       280  \n",
       "4           607            607                  1        473       133  "
      ]
     },
     "execution_count": 17,
     "metadata": {},
     "output_type": "execute_result"
    }
   ],
   "source": [
    "uiks_dataframe.head()"
   ]
  },
  {
   "cell_type": "code",
   "execution_count": 18,
   "metadata": {},
   "outputs": [],
   "source": [
    "uiks_dataframe.to_csv(\"uiks-sig.csv\", index=False, encoding='utf-8-sig')\n",
    "uiks_dataframe.to_csv(\"uiks-utf8.csv\", index=False, encoding='utf-8')"
   ]
  },
  {
   "cell_type": "code",
   "execution_count": 19,
   "metadata": {},
   "outputs": [
    {
     "data": {
      "text/plain": [
       "Московская область                       4182\n",
       "город Москва                             3603\n",
       "Республика Башкортостан                  3431\n",
       "Краснодарский край                       2836\n",
       "Республика Татарстан (Татарстан)         2809\n",
       "                                         ... \n",
       "Республика Ингушетия                      137\n",
       "Магаданская область                       102\n",
       "Чукотский автономный округ                 55\n",
       "Ненецкий автономный округ                  55\n",
       "Город Байконур (Республика Казахстан)       7\n",
       "Name: region_name, Length: 87, dtype: int64"
      ]
     },
     "execution_count": 19,
     "metadata": {},
     "output_type": "execute_result"
    }
   ],
   "source": [
    "uiks_dataframe['region_name'].value_counts()"
   ]
  },
  {
   "cell_type": "code",
   "execution_count": 20,
   "metadata": {},
   "outputs": [],
   "source": [
    "!gzip -9 -f protocols_json.txt"
   ]
  },
  {
   "cell_type": "code",
   "execution_count": null,
   "metadata": {},
   "outputs": [],
   "source": []
  }
 ],
 "metadata": {
  "kernelspec": {
   "display_name": "Python 3",
   "language": "python",
   "name": "python3"
  },
  "language_info": {
   "codemirror_mode": {
    "name": "ipython",
    "version": 3
   },
   "file_extension": ".py",
   "mimetype": "text/x-python",
   "name": "python",
   "nbconvert_exporter": "python",
   "pygments_lexer": "ipython3",
   "version": "3.7.7"
  }
 },
 "nbformat": 4,
 "nbformat_minor": 4
}
