{
 "cells": [
  {
   "cell_type": "code",
   "execution_count": 1,
   "metadata": {},
   "outputs": [],
   "source": [
    "import json\n",
    "import codecs\n",
    "def json_readr(file):\n",
    "    for line in codecs.open(file, mode=\"r\", encoding='utf-8-sig'):\n",
    "        yield json.loads(line)"
   ]
  },
  {
   "cell_type": "code",
   "execution_count": 2,
   "metadata": {},
   "outputs": [],
   "source": [
    "filename = 'protocols_json.txt'"
   ]
  },
  {
   "cell_type": "code",
   "execution_count": 3,
   "metadata": {},
   "outputs": [],
   "source": [
    "protocols = list(json_readr(filename))"
   ]
  },
  {
   "cell_type": "code",
   "execution_count": 4,
   "metadata": {},
   "outputs": [
    {
     "data": {
      "text/plain": [
       "94243"
      ]
     },
     "execution_count": 4,
     "metadata": {},
     "output_type": "execute_result"
    }
   ],
   "source": [
    "len(protocols)"
   ]
  },
  {
   "cell_type": "code",
   "execution_count": 5,
   "metadata": {},
   "outputs": [
    {
     "data": {
      "text/plain": [
       "{'loc': ['Общероссийское голосование по вопросу одобрения изменений в Конституцию Российской Федерации',\n",
       "  'Республика Адыгея (Адыгея)',\n",
       "  '1 Адыгейская',\n",
       "  'УИК №1'],\n",
       " 'url': 'http://www.vybory.izbirkom.ru/region/izbirkom?action=show&global=true&root=12000009&tvd=2012000434180&vrn=100100163596966&prver=0&pronetvd=null&region=0&sub_region=99&type=465&vibid=2012000434180',\n",
       " 'data': [{'line_num': '1',\n",
       "   'line_name': 'Число участников голосования, включенных в список участников голосования на момент окончания голосования',\n",
       "   'line_val': '2277'},\n",
       "  {'line_num': '2',\n",
       "   'line_name': 'Число бюллетеней, выданных участникам голосования',\n",
       "   'line_val': '1925'},\n",
       "  {'line_num': '3',\n",
       "   'line_name': 'Число бюллетеней, содержащихся в ящиках для голосования',\n",
       "   'line_val': '1925'},\n",
       "  {'line_num': '4',\n",
       "   'line_name': 'Число недействительных бюллетеней',\n",
       "   'line_val': '0'},\n",
       "  {'line_num': '5', 'line_name': 'ДА', 'line_val': '1749'},\n",
       "  {'line_num': '6', 'line_name': 'НЕТ', 'line_val': '176'}]}"
      ]
     },
     "execution_count": 5,
     "metadata": {},
     "output_type": "execute_result"
    }
   ],
   "source": [
    "protocols[0]"
   ]
  },
  {
   "cell_type": "code",
   "execution_count": 6,
   "metadata": {},
   "outputs": [],
   "source": [
    "uiks = [x for x in protocols if len(x['loc']) == 4]"
   ]
  },
  {
   "cell_type": "code",
   "execution_count": 7,
   "metadata": {},
   "outputs": [
    {
     "data": {
      "text/plain": [
       "94243"
      ]
     },
     "execution_count": 7,
     "metadata": {},
     "output_type": "execute_result"
    }
   ],
   "source": [
    "len(uiks)"
   ]
  },
  {
   "cell_type": "code",
   "execution_count": 8,
   "metadata": {},
   "outputs": [
    {
     "name": "stdout",
     "output_type": "stream",
     "text": [
      "55572735\n"
     ]
    }
   ],
   "source": [
    "summary = 0\n",
    "for x in uiks:\n",
    "    summary += int(x['data'][4]['line_val'])\n",
    "print(summary)"
   ]
  },
  {
   "cell_type": "code",
   "execution_count": 9,
   "metadata": {},
   "outputs": [],
   "source": [
    "regions = set()\n",
    "for x in uiks:\n",
    "    regions.add(x['loc'][1])"
   ]
  },
  {
   "cell_type": "code",
   "execution_count": 10,
   "metadata": {},
   "outputs": [
    {
     "name": "stdout",
     "output_type": "stream",
     "text": [
      "['Ставропольский край', 'Ханты-Мансийский автономный округ - Югра', 'Саратовская область', 'Тамбовская область', 'Ростовская область', 'Иркутская область', 'Ленинградская область', 'Карачаево-Черкесская Республика', 'Оренбургская область', 'Ярославская область', 'Липецкая область', 'Республика Мордовия', 'Калужская область', 'Республика Бурятия', 'Приморский край', 'Новгородская область', 'Нижегородская область', 'Свердловская область', 'Республика Татарстан (Татарстан)', 'Курская область', 'Красноярский край', 'Чеченская Республика', 'Рязанская область', 'Ивановская область', 'Республика Крым', 'Мурманская область', 'Псковская область', 'Амурская область', 'Астраханская область', 'Хабаровский край', 'город Севастополь', 'Кабардино-Балкарская Республика', 'Челябинская область', 'Чукотский автономный округ', 'Республика Марий Эл', 'Краснодарский край', 'Ямало-Ненецкий автономный округ', 'Республика Карелия', 'Республика Башкортостан', 'Брянская область', 'Ненецкий автономный округ', 'Республика Калмыкия', 'Забайкальский край', 'Кемеровская область - Кузбасс', 'Пензенская область', 'Удмуртская Республика', 'Калининградская область', 'Курганская область', 'Воронежская область', 'Магаданская область', 'Сахалинская область', 'Пермский край', 'Орловская область', 'Республика Алтай', 'Ульяновская область', 'Московская область', 'Республика Коми', 'Омская область', 'Тюменская область', 'Тульская область', 'Республика Адыгея (Адыгея)', 'Кировская область', 'Новосибирская область', 'Владимирская область', 'Архангельская область', 'Волгоградская область', 'Алтайский край', 'Еврейская автономная область', 'Республика Дагестан', 'Белгородская область', 'Республика Ингушетия', 'Смоленская область', 'Республика Хакасия', 'Камчатский край', 'Самарская область', 'Республика Тыва', 'Республика Саха (Якутия)', 'город Санкт-Петербург', 'Костромская область', 'Вологодская область', 'Томская область', 'Тверская область', 'Республика Северная Осетия - Алания', 'город Москва', 'Чувашская Республика - Чувашия']\n"
     ]
    }
   ],
   "source": [
    "print(list(regions))"
   ]
  },
  {
   "cell_type": "code",
   "execution_count": 11,
   "metadata": {},
   "outputs": [
    {
     "data": {
      "text/plain": [
       "{'loc': ['Общероссийское голосование по вопросу одобрения изменений в Конституцию Российской Федерации',\n",
       "  'Республика Адыгея (Адыгея)',\n",
       "  '1 Адыгейская',\n",
       "  'УИК №1'],\n",
       " 'url': 'http://www.vybory.izbirkom.ru/region/izbirkom?action=show&global=true&root=12000009&tvd=2012000434180&vrn=100100163596966&prver=0&pronetvd=null&region=0&sub_region=99&type=465&vibid=2012000434180',\n",
       " 'data': [{'line_num': '1',\n",
       "   'line_name': 'Число участников голосования, включенных в список участников голосования на момент окончания голосования',\n",
       "   'line_val': '2277'},\n",
       "  {'line_num': '2',\n",
       "   'line_name': 'Число бюллетеней, выданных участникам голосования',\n",
       "   'line_val': '1925'},\n",
       "  {'line_num': '3',\n",
       "   'line_name': 'Число бюллетеней, содержащихся в ящиках для голосования',\n",
       "   'line_val': '1925'},\n",
       "  {'line_num': '4',\n",
       "   'line_name': 'Число недействительных бюллетеней',\n",
       "   'line_val': '0'},\n",
       "  {'line_num': '5', 'line_name': 'ДА', 'line_val': '1749'},\n",
       "  {'line_num': '6', 'line_name': 'НЕТ', 'line_val': '176'}]}"
      ]
     },
     "execution_count": 11,
     "metadata": {},
     "output_type": "execute_result"
    }
   ],
   "source": [
    "uiks[0]"
   ]
  },
  {
   "cell_type": "code",
   "execution_count": 12,
   "metadata": {},
   "outputs": [],
   "source": [
    "loc_region = []\n",
    "loc_tik = []\n",
    "loc_uik = []\n",
    "protocol_1 = []\n",
    "protocol_2 = []\n",
    "protocol_3 = []\n",
    "protocol_4 = []\n",
    "protocol_5 = []\n",
    "protocol_6 = []"
   ]
  },
  {
   "cell_type": "code",
   "execution_count": 13,
   "metadata": {},
   "outputs": [],
   "source": [
    "for x in uiks:\n",
    "    loc_region.append(x['loc'][1])\n",
    "    loc_tik.append(x['loc'][2])\n",
    "    loc_uik.append(x['loc'][3])\n",
    "    protocol_1.append(int(x['data'][0]['line_val'])) #1\n",
    "    protocol_2.append(int(x['data'][1]['line_val'])) #2\n",
    "    protocol_3.append(int(x['data'][2]['line_val'])) #3\n",
    "    protocol_4.append(int(x['data'][3]['line_val'])) #4\n",
    "    protocol_5.append(int(x['data'][4]['line_val'])) #5\n",
    "    protocol_6.append(int(x['data'][5]['line_val'])) #6"
   ]
  },
  {
   "cell_type": "code",
   "execution_count": 14,
   "metadata": {},
   "outputs": [
    {
     "data": {
      "text/plain": [
       "94243"
      ]
     },
     "execution_count": 14,
     "metadata": {},
     "output_type": "execute_result"
    }
   ],
   "source": [
    "len(protocol_1)"
   ]
  },
  {
   "cell_type": "code",
   "execution_count": 15,
   "metadata": {},
   "outputs": [],
   "source": [
    "import pandas as pd"
   ]
  },
  {
   "cell_type": "code",
   "execution_count": 16,
   "metadata": {},
   "outputs": [],
   "source": [
    "uiks_dataframe = pd.DataFrame({\n",
    "    'region_name' : pd.Series(loc_region),\n",
    "    'tik_name' : pd.Series(loc_tik),\n",
    "    'uik_name' : pd.Series(loc_uik),\n",
    "    'registered_voters' : pd.Series(protocol_1),\n",
    "    'used_ballots': pd.Series(protocol_2),\n",
    "    'found_ballots' : pd.Series(protocol_3),\n",
    "    'incorrect_ballots' : pd.Series(protocol_4),\n",
    "    'yes_votes' : pd.Series(protocol_5),\n",
    "    'no_votes' : pd.Series(protocol_6)\n",
    "}, columns=[\n",
    "    'region_name',\n",
    "    'tik_name',\n",
    "    'uik_name',\n",
    "    'registered_voters',\n",
    "    'used_ballots',\n",
    "    'found_ballots',\n",
    "    'incorrect_ballots',\n",
    "    'yes_votes',\n",
    "    'no_votes'\n",
    "])"
   ]
  },
  {
   "cell_type": "code",
   "execution_count": 17,
   "metadata": {},
   "outputs": [
    {
     "data": {
      "text/html": [
       "<div>\n",
       "<style scoped>\n",
       "    .dataframe tbody tr th:only-of-type {\n",
       "        vertical-align: middle;\n",
       "    }\n",
       "\n",
       "    .dataframe tbody tr th {\n",
       "        vertical-align: top;\n",
       "    }\n",
       "\n",
       "    .dataframe thead th {\n",
       "        text-align: right;\n",
       "    }\n",
       "</style>\n",
       "<table border=\"1\" class=\"dataframe\">\n",
       "  <thead>\n",
       "    <tr style=\"text-align: right;\">\n",
       "      <th></th>\n",
       "      <th>region_name</th>\n",
       "      <th>tik_name</th>\n",
       "      <th>uik_name</th>\n",
       "      <th>registered_voters</th>\n",
       "      <th>used_ballots</th>\n",
       "      <th>found_ballots</th>\n",
       "      <th>incorrect_ballots</th>\n",
       "      <th>yes_votes</th>\n",
       "      <th>no_votes</th>\n",
       "    </tr>\n",
       "  </thead>\n",
       "  <tbody>\n",
       "    <tr>\n",
       "      <th>0</th>\n",
       "      <td>Республика Адыгея (Адыгея)</td>\n",
       "      <td>1 Адыгейская</td>\n",
       "      <td>УИК №1</td>\n",
       "      <td>2277</td>\n",
       "      <td>1925</td>\n",
       "      <td>1925</td>\n",
       "      <td>0</td>\n",
       "      <td>1749</td>\n",
       "      <td>176</td>\n",
       "    </tr>\n",
       "    <tr>\n",
       "      <th>1</th>\n",
       "      <td>Республика Адыгея (Адыгея)</td>\n",
       "      <td>1 Адыгейская</td>\n",
       "      <td>УИК №2</td>\n",
       "      <td>2694</td>\n",
       "      <td>2290</td>\n",
       "      <td>2290</td>\n",
       "      <td>7</td>\n",
       "      <td>2117</td>\n",
       "      <td>166</td>\n",
       "    </tr>\n",
       "    <tr>\n",
       "      <th>2</th>\n",
       "      <td>Республика Адыгея (Адыгея)</td>\n",
       "      <td>1 Адыгейская</td>\n",
       "      <td>УИК №3</td>\n",
       "      <td>2865</td>\n",
       "      <td>2441</td>\n",
       "      <td>2441</td>\n",
       "      <td>11</td>\n",
       "      <td>2171</td>\n",
       "      <td>259</td>\n",
       "    </tr>\n",
       "    <tr>\n",
       "      <th>3</th>\n",
       "      <td>Республика Адыгея (Адыгея)</td>\n",
       "      <td>1 Адыгейская</td>\n",
       "      <td>УИК №4</td>\n",
       "      <td>2054</td>\n",
       "      <td>1669</td>\n",
       "      <td>1669</td>\n",
       "      <td>8</td>\n",
       "      <td>1381</td>\n",
       "      <td>280</td>\n",
       "    </tr>\n",
       "    <tr>\n",
       "      <th>4</th>\n",
       "      <td>Республика Адыгея (Адыгея)</td>\n",
       "      <td>1 Адыгейская</td>\n",
       "      <td>УИК №5</td>\n",
       "      <td>714</td>\n",
       "      <td>607</td>\n",
       "      <td>607</td>\n",
       "      <td>1</td>\n",
       "      <td>473</td>\n",
       "      <td>133</td>\n",
       "    </tr>\n",
       "  </tbody>\n",
       "</table>\n",
       "</div>"
      ],
      "text/plain": [
       "                  region_name      tik_name uik_name  registered_voters  \\\n",
       "0  Республика Адыгея (Адыгея)  1 Адыгейская   УИК №1               2277   \n",
       "1  Республика Адыгея (Адыгея)  1 Адыгейская   УИК №2               2694   \n",
       "2  Республика Адыгея (Адыгея)  1 Адыгейская   УИК №3               2865   \n",
       "3  Республика Адыгея (Адыгея)  1 Адыгейская   УИК №4               2054   \n",
       "4  Республика Адыгея (Адыгея)  1 Адыгейская   УИК №5                714   \n",
       "\n",
       "   used_ballots  found_ballots  incorrect_ballots  yes_votes  no_votes  \n",
       "0          1925           1925                  0       1749       176  \n",
       "1          2290           2290                  7       2117       166  \n",
       "2          2441           2441                 11       2171       259  \n",
       "3          1669           1669                  8       1381       280  \n",
       "4           607            607                  1        473       133  "
      ]
     },
     "execution_count": 17,
     "metadata": {},
     "output_type": "execute_result"
    }
   ],
   "source": [
    "uiks_dataframe.head()"
   ]
  },
  {
   "cell_type": "code",
   "execution_count": 18,
   "metadata": {},
   "outputs": [],
   "source": [
    "uiks_dataframe.to_csv(\"uiks-sig.csv\", index=False, encoding='utf-8-sig')\n",
    "uiks_dataframe.to_csv(\"uiks-utf8.csv\", index=False, encoding='utf-8')"
   ]
  },
  {
   "cell_type": "code",
   "execution_count": 19,
   "metadata": {},
   "outputs": [
    {
     "data": {
      "text/plain": [
       "Index(['Московская область', 'город Москва', 'Республика Башкортостан',\n",
       "       'Краснодарский край', 'Ростовская область', 'Свердловская область',\n",
       "       'Республика Татарстан (Татарстан)', 'Нижегородская область',\n",
       "       'Челябинская область', 'Красноярский край', 'город Санкт-Петербург',\n",
       "       'Новосибирская область', 'Иркутская область', 'Республика Дагестан',\n",
       "       'Саратовская область', 'Алтайский край', 'Самарская область',\n",
       "       'Пермский край', 'Омская область', 'Воронежская область',\n",
       "       'Кемеровская область - Кузбасс', 'Волгоградская область',\n",
       "       'Ставропольский край', 'Приморский край', 'Белгородская область',\n",
       "       'Удмуртская Республика', 'Тверская область', 'Кировская область',\n",
       "       'Республика Крым', 'Чувашская Республика - Чувашия', 'Тульская область',\n",
       "       'Курская область', 'Тюменская область', 'Брянская область',\n",
       "       'Пензенская область', 'Рязанская область', 'Ульяновская область',\n",
       "       'Владимирская область', 'Вологодская область', 'Курганская область',\n",
       "       'Забайкальский край', 'Тамбовская область', 'Архангельская область',\n",
       "       'Липецкая область', 'Ярославская область', 'Республика Бурятия',\n",
       "       'Ленинградская область', 'Республика Саха (Якутия)', 'Хабаровский край',\n",
       "       'Смоленская область', 'Республика Мордовия', 'Томская область',\n",
       "       'Ивановская область', 'Амурская область', 'Калужская область',\n",
       "       'Орловская область', 'Ханты-Мансийский автономный округ - Югра',\n",
       "       'Республика Коми', 'Псковская область', 'Мурманская область',\n",
       "       'Астраханская область', 'Оренбургская область',\n",
       "       'Калининградская область', 'Костромская область',\n",
       "       'Новгородская область', 'Республика Марий Эл', 'Республика Карелия',\n",
       "       'Сахалинская область', 'Республика Хакасия', 'Чеченская Республика',\n",
       "       'Республика Северная Осетия - Алания',\n",
       "       'Кабардино-Балкарская Республика', 'Камчатский край',\n",
       "       'Республика Адыгея (Адыгея)', 'Республика Калмыкия', 'Республика Алтай',\n",
       "       'Ямало-Ненецкий автономный округ', 'Карачаево-Черкесская Республика',\n",
       "       'Еврейская автономная область', 'Республика Тыва', 'город Севастополь',\n",
       "       'Республика Ингушетия', 'Магаданская область',\n",
       "       'Ненецкий автономный округ', 'Чукотский автономный округ'],\n",
       "      dtype='object')"
      ]
     },
     "execution_count": 19,
     "metadata": {},
     "output_type": "execute_result"
    }
   ],
   "source": [
    "uiks_dataframe['region_name'].value_counts().keys()"
   ]
  },
  {
   "cell_type": "code",
   "execution_count": null,
   "metadata": {},
   "outputs": [],
   "source": []
  }
 ],
 "metadata": {
  "kernelspec": {
   "display_name": "Python 3",
   "language": "python",
   "name": "python3"
  },
  "language_info": {
   "codemirror_mode": {
    "name": "ipython",
    "version": 3
   },
   "file_extension": ".py",
   "mimetype": "text/x-python",
   "name": "python",
   "nbconvert_exporter": "python",
   "pygments_lexer": "ipython3",
   "version": "3.7.7"
  }
 },
 "nbformat": 4,
 "nbformat_minor": 4
}
