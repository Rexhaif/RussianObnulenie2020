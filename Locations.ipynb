{
 "cells": [
  {
   "cell_type": "code",
   "execution_count": 2,
   "metadata": {},
   "outputs": [],
   "source": [
    "import matplotlib.pylab as plt\n",
    "import pandas as pd\n",
    "import numpy as np\n",
    "%matplotlib inline"
   ]
  },
  {
   "cell_type": "code",
   "execution_count": 68,
   "metadata": {},
   "outputs": [],
   "source": [
    "from tqdm.auto import tqdm"
   ]
  },
  {
   "cell_type": "code",
   "execution_count": 67,
   "metadata": {},
   "outputs": [],
   "source": [
    "import re"
   ]
  },
  {
   "cell_type": "code",
   "execution_count": 3,
   "metadata": {},
   "outputs": [],
   "source": [
    "data = pd.read_csv(\"./uiks-utf8.csv\")"
   ]
  },
  {
   "cell_type": "code",
   "execution_count": 4,
   "metadata": {},
   "outputs": [
    {
     "data": {
      "text/html": [
       "<div>\n",
       "<style scoped>\n",
       "    .dataframe tbody tr th:only-of-type {\n",
       "        vertical-align: middle;\n",
       "    }\n",
       "\n",
       "    .dataframe tbody tr th {\n",
       "        vertical-align: top;\n",
       "    }\n",
       "\n",
       "    .dataframe thead th {\n",
       "        text-align: right;\n",
       "    }\n",
       "</style>\n",
       "<table border=\"1\" class=\"dataframe\">\n",
       "  <thead>\n",
       "    <tr style=\"text-align: right;\">\n",
       "      <th></th>\n",
       "      <th>region_name</th>\n",
       "      <th>tik_name</th>\n",
       "      <th>uik_name</th>\n",
       "      <th>registered_voters</th>\n",
       "      <th>used_ballots</th>\n",
       "      <th>found_ballots</th>\n",
       "      <th>incorrect_ballots</th>\n",
       "      <th>yes_votes</th>\n",
       "      <th>no_votes</th>\n",
       "    </tr>\n",
       "  </thead>\n",
       "  <tbody>\n",
       "    <tr>\n",
       "      <th>0</th>\n",
       "      <td>Республика Адыгея (Адыгея)</td>\n",
       "      <td>1 Адыгейская</td>\n",
       "      <td>УИК №1</td>\n",
       "      <td>2277</td>\n",
       "      <td>1925</td>\n",
       "      <td>1925</td>\n",
       "      <td>0</td>\n",
       "      <td>1749</td>\n",
       "      <td>176</td>\n",
       "    </tr>\n",
       "    <tr>\n",
       "      <th>1</th>\n",
       "      <td>Республика Адыгея (Адыгея)</td>\n",
       "      <td>1 Адыгейская</td>\n",
       "      <td>УИК №2</td>\n",
       "      <td>2694</td>\n",
       "      <td>2290</td>\n",
       "      <td>2290</td>\n",
       "      <td>7</td>\n",
       "      <td>2117</td>\n",
       "      <td>166</td>\n",
       "    </tr>\n",
       "    <tr>\n",
       "      <th>2</th>\n",
       "      <td>Республика Адыгея (Адыгея)</td>\n",
       "      <td>1 Адыгейская</td>\n",
       "      <td>УИК №3</td>\n",
       "      <td>2865</td>\n",
       "      <td>2441</td>\n",
       "      <td>2441</td>\n",
       "      <td>11</td>\n",
       "      <td>2171</td>\n",
       "      <td>259</td>\n",
       "    </tr>\n",
       "    <tr>\n",
       "      <th>3</th>\n",
       "      <td>Республика Адыгея (Адыгея)</td>\n",
       "      <td>1 Адыгейская</td>\n",
       "      <td>УИК №4</td>\n",
       "      <td>2054</td>\n",
       "      <td>1669</td>\n",
       "      <td>1669</td>\n",
       "      <td>8</td>\n",
       "      <td>1381</td>\n",
       "      <td>280</td>\n",
       "    </tr>\n",
       "    <tr>\n",
       "      <th>4</th>\n",
       "      <td>Республика Адыгея (Адыгея)</td>\n",
       "      <td>1 Адыгейская</td>\n",
       "      <td>УИК №5</td>\n",
       "      <td>714</td>\n",
       "      <td>607</td>\n",
       "      <td>607</td>\n",
       "      <td>1</td>\n",
       "      <td>473</td>\n",
       "      <td>133</td>\n",
       "    </tr>\n",
       "  </tbody>\n",
       "</table>\n",
       "</div>"
      ],
      "text/plain": [
       "                  region_name      tik_name uik_name  registered_voters  \\\n",
       "0  Республика Адыгея (Адыгея)  1 Адыгейская   УИК №1               2277   \n",
       "1  Республика Адыгея (Адыгея)  1 Адыгейская   УИК №2               2694   \n",
       "2  Республика Адыгея (Адыгея)  1 Адыгейская   УИК №3               2865   \n",
       "3  Республика Адыгея (Адыгея)  1 Адыгейская   УИК №4               2054   \n",
       "4  Республика Адыгея (Адыгея)  1 Адыгейская   УИК №5                714   \n",
       "\n",
       "   used_ballots  found_ballots  incorrect_ballots  yes_votes  no_votes  \n",
       "0          1925           1925                  0       1749       176  \n",
       "1          2290           2290                  7       2117       166  \n",
       "2          2441           2441                 11       2171       259  \n",
       "3          1669           1669                  8       1381       280  \n",
       "4           607            607                  1        473       133  "
      ]
     },
     "execution_count": 4,
     "metadata": {},
     "output_type": "execute_result"
    }
   ],
   "source": [
    "data.head()"
   ]
  },
  {
   "cell_type": "code",
   "execution_count": 66,
   "metadata": {},
   "outputs": [],
   "source": [
    "locations = pd.read_csv(\"cik_uik.csv\")"
   ]
  },
  {
   "cell_type": "code",
   "execution_count": 71,
   "metadata": {},
   "outputs": [],
   "source": [
    "locations = locations[locations.type_ik == 'uik'].fillna(\"\")"
   ]
  },
  {
   "cell_type": "code",
   "execution_count": 72,
   "metadata": {},
   "outputs": [
    {
     "data": {
      "application/vnd.jupyter.widget-view+json": {
       "model_id": "d4649aae53ad4698bcab58beda065f63",
       "version_major": 2,
       "version_minor": 0
      },
      "text/plain": [
       "HBox(children=(FloatProgress(value=0.0, max=96091.0), HTML(value='')))"
      ]
     },
     "metadata": {},
     "output_type": "display_data"
    },
    {
     "name": "stdout",
     "output_type": "stream",
     "text": [
      "\n"
     ]
    }
   ],
   "source": [
    "lat = []\n",
    "lon = []\n",
    "miss = 0\n",
    "hits = 0\n",
    "\n",
    "for x in tqdm(data.itertuples(), total=len(data)):\n",
    "    normal_region = re.sub(\"\\(.+?\\)\", \"\", x.region_name) ## removing (smth) from region_name to make it compatible with cik_uik addresses\n",
    "    normal_uik    = x.uik_name.replace(\"УИК\", \"Участковая избирательная комиссия\") ## exapanding uik abbrev.\n",
    "    retrieval     = locations[locations.address.str.contains(normal_region)]\n",
    "    retrieval     = retrieval[retrieval.name.str.contains(normal_uik)]\n",
    "    if len(retrieval) != 1:\n",
    "        miss += 1\n",
    "        lat.append(None)\n",
    "        lon.append(None)\n",
    "    else:\n",
    "        hits += 1\n",
    "        lat.append(retrieval.iloc[0]['lat_voteroom'])\n",
    "        lon.append(retrieval.iloc[0]['lon_voteroom'])"
   ]
  },
  {
   "cell_type": "code",
   "execution_count": 73,
   "metadata": {},
   "outputs": [
    {
     "name": "stdout",
     "output_type": "stream",
     "text": [
      "80.4654% locations found\n"
     ]
    }
   ],
   "source": [
    "print(f\"{(hits/len(data)) * 100:.4f}% locations found\")"
   ]
  },
  {
   "cell_type": "code",
   "execution_count": 74,
   "metadata": {},
   "outputs": [],
   "source": [
    "data['latitude'] = lat\n",
    "data['longitude'] = lon"
   ]
  },
  {
   "cell_type": "code",
   "execution_count": 78,
   "metadata": {},
   "outputs": [],
   "source": [
    "data['longitude'] = data['longitude'].apply(lambda x: float(x) if x else float(\"NaN\"))"
   ]
  },
  {
   "cell_type": "code",
   "execution_count": 79,
   "metadata": {},
   "outputs": [],
   "source": [
    "data['latitude'] = data['latitude'].apply(lambda x: float(x) if x else float(\"NaN\"))"
   ]
  },
  {
   "cell_type": "code",
   "execution_count": 85,
   "metadata": {},
   "outputs": [],
   "source": [
    "data.to_csv(\"uiks-sig.csv\", index=False, encoding='utf-8-sig')\n",
    "data.to_csv(\"uiks-utf8.csv\", index=False, encoding='utf-8')"
   ]
  },
  {
   "cell_type": "code",
   "execution_count": null,
   "metadata": {},
   "outputs": [],
   "source": []
  }
 ],
 "metadata": {
  "kernelspec": {
   "display_name": "Python 3",
   "language": "python",
   "name": "python3"
  },
  "language_info": {
   "codemirror_mode": {
    "name": "ipython",
    "version": 3
   },
   "file_extension": ".py",
   "mimetype": "text/x-python",
   "name": "python",
   "nbconvert_exporter": "python",
   "pygments_lexer": "ipython3",
   "version": "3.7.7"
  }
 },
 "nbformat": 4,
 "nbformat_minor": 4
}
